{
 "cells": [
  {
   "cell_type": "code",
   "execution_count": 93,
   "metadata": {},
   "outputs": [],
   "source": [
    "from itertools import tee\n",
    "def pairwise(iterable):\n",
    "    \"s -> (s0,s1), (s1,s2), (s2, s3), ...\"\n",
    "    a, b = tee(iterable)\n",
    "    next(b, None)\n",
    "    return zip(a, b)\n",
    "\n"
   ]
  },
  {
   "cell_type": "code",
   "execution_count": 105,
   "metadata": {},
   "outputs": [
    {
     "name": "stdout",
     "output_type": "stream",
     "text": [
      "1862\n"
     ]
    }
   ],
   "source": [
    "import json\n",
    "import random\n",
    "import uuid\n",
    "\n",
    "train = {\n",
    "    \"version\":'2.0',\n",
    "    \"data\":[{\"title\":\"Custom\", \"paragraphs\":[]}]\n",
    "}\n",
    "dev = {\n",
    "    \"version\":'2.0',\n",
    "    \"data\":[{\"title\":\"Custom\", \"paragraphs\":[]}]\n",
    "}\n",
    "\n",
    "with open('./out/question_answer_spans.csv', 'r') as infile:\n",
    "    j = 0\n",
    "    for line in infile.read().splitlines():\n",
    "        j += 1\n",
    "        split = list(map(lambda x: x.replace(\"{COMMA}\", \",\"), line.split(\",\")))\n",
    "        answer_spans = list(pairwise(split[2].split(\"|\")))[2::4]\n",
    "        question_spans = list(pairwise(split[2].split(\"|\")))[0::4]\n",
    "        for i in range(len(question_spans)):\n",
    "            question_span = question_spans[i]\n",
    "            answer_span = answer_spans[i]\n",
    "            qa = {\n",
    "                \"qas\":[{\"question\":split[0],\n",
    "                        \"question_component_offset\":int(question_span[0]),\n",
    "                        \"question_component_text\":split[0][int(question_span[0]):int(question_span[1])],\n",
    "                        \"id\":uuid.uuid4().hex,\n",
    "                        \"is_impossible\": False,\n",
    "                        \"answers\":[{\"text\":split[1][int(answer_span[0]):int(answer_span[1])],\n",
    "                                   \"answer_start\":int(answer_span[0])}]\n",
    "                       }],\n",
    "                \"context\": split[1],\n",
    "            }\n",
    "            if random.random() > 0.3:\n",
    "                train[\"data\"][0][\"paragraphs\"].append(qa)\n",
    "            else:\n",
    "                dev[\"data\"][0][\"paragraphs\"].append(qa)\n",
    "print(j)"
   ]
  },
  {
   "cell_type": "code",
   "execution_count": 107,
   "metadata": {},
   "outputs": [],
   "source": [
    "with open(\"./out/qa_squad_train.json\",\"w\") as outfile:\n",
    "    json.dump(train, outfile)\n",
    "with open(\"./out/qa_squad_dev.json\",\"w\") as outfile:\n",
    "    json.dump(dev, outfile)\n",
    "    "
   ]
  },
  {
   "cell_type": "code",
   "execution_count": 21,
   "metadata": {},
   "outputs": [
    {
     "data": {
      "text/plain": [
       "688"
      ]
     },
     "execution_count": 21,
     "metadata": {},
     "output_type": "execute_result"
    }
   ],
   "source": [
    "len(data[\"data\"][0][\"paragraphs\"])"
   ]
  }
 ],
 "metadata": {
  "kernelspec": {
   "display_name": "Python 3",
   "language": "python",
   "name": "python3"
  },
  "language_info": {
   "codemirror_mode": {
    "name": "ipython",
    "version": 3
   },
   "file_extension": ".py",
   "mimetype": "text/x-python",
   "name": "python",
   "nbconvert_exporter": "python",
   "pygments_lexer": "ipython3",
   "version": "3.6.5"
  }
 },
 "nbformat": 4,
 "nbformat_minor": 2
}
