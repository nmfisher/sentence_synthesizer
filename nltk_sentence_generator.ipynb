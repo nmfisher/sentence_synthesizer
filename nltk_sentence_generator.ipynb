{
 "cells": [
  {
   "cell_type": "code",
   "execution_count": 3,
   "metadata": {
    "collapsed": true
   },
   "outputs": [],
   "source": [
    "import itertools\n",
    "import sys\n",
    "from nltk.grammar import Nonterminal"
   ]
  },
  {
   "cell_type": "code",
   "execution_count": 22,
   "metadata": {
    "collapsed": true
   },
   "outputs": [],
   "source": [
    "def generate(grammar, start=None, depth=None, n=None):\n",
    "    \"\"\"\n",
    "    Generates an iterator of all sentences from a CFG.\n",
    "\n",
    "    :param grammar: The Grammar used to generate sentences.\n",
    "    :param start: The Nonterminal from which to start generate sentences.\n",
    "    :param depth: The maximal depth of the generated tree.\n",
    "    :param n: The maximum number of sentences to return.\n",
    "    :return: An iterator of lists of terminal tokens.\n",
    "    \"\"\"\n",
    "    if not start:\n",
    "        start = grammar.start()\n",
    "    if depth is None:\n",
    "        depth = sys.maxsize\n",
    "\n",
    "    iter = _generate_all(grammar, [start], depth)\n",
    "\n",
    "    if n:\n",
    "        iter = itertools.islice(iter, n)\n",
    "\n",
    "    return iter\n",
    "\n",
    "\n",
    "\n",
    "def _generate_all(grammar, items, depth):\n",
    "    if items:\n",
    "        try:\n",
    "            for frag1 in _generate_one(grammar, items[0], depth):\n",
    "                for frag2 in _generate_all(grammar, items[1:], depth):\n",
    "                    yield frag1 + frag2\n",
    "        except RuntimeError as _error:\n",
    "            if _error.message == \"maximum recursion depth exceeded\":\n",
    "                # Helpful error message while still showing the recursion stack.\n",
    "                raise RuntimeError(\n",
    "                    \"The grammar has rule(s) that yield infinite recursion!!\"\n",
    "                )\n",
    "            else:\n",
    "                raise\n",
    "    else:\n",
    "        yield []\n",
    "\n",
    "\n",
    "def _generate_one(grammar, item, depth):\n",
    "    if depth > 0:\n",
    "        if isinstance(item, Nonterminal):\n",
    "            for prod in grammar.productions(lhs=item):\n",
    "                for frag in _generate_all(grammar, prod.rhs(), depth - 1):\n",
    "                    yield frag\n",
    "        else:\n",
    "            yield [item]\n",
    "\n",
    "\n",
    "demo_grammar = \"\"\"\n",
    "  S -> QP T [1.0]\n",
    "  QP -> Q PR [1.0]\n",
    "  PR -> Det OP [0.333] | Det O Conj O Pos Det O2 [0.333] | Det O Comm O Conj O Pos Det O2 [0.333]\n",
    "  OP -> O Pos Det O2 [0.5] | O2 Ap O [0.5]\n",
    "  Q -> 'what is' [1] \n",
    "  Det -> 'the' [1.0]\n",
    "  Conj -> 'and' [1.0] \n",
    "  Comm -> ',' [1.0]\n",
    "  O -> 'name' [0.166666666] | 'date of birth' [0.166666666] | 'first name' [0.166666666] | 'last name' [0.166666666] | 'amount owed' [0.166666666] | 'address' [0.166666666]\n",
    "  Pos -> 'of' [0.9] | 'to' [0.1]\n",
    "  Ap -> 's' [1.0]\n",
    "  O2 -> [0.166666666] 'employee' | [0.166666666] 'customer' | [0.166666666] 'client' | [0.166666666] 'company' | [0.166666666] 'payee' | [0.166666666] 'recipient'\n",
    "  T -> '?' [1.0]\n",
    "\"\"\""
   ]
  },
  {
   "cell_type": "code",
   "execution_count": 27,
   "metadata": {},
   "outputs": [
    {
     "name": "stdout",
     "output_type": "stream",
     "text": [
      "Generating the first 10000 sentences for demo grammar:\n",
      "\n",
      "  S -> QP T [1.0]\n",
      "  QP -> Q PR [1.0]\n",
      "  PR -> Det OP [0.333] | Det O Conj O Pos Det O2 [0.333] | Det O Comm O Conj O Pos Det O2 [0.333]\n",
      "  OP -> O Pos Det O2 [0.5] | O2 Ap O [0.5]\n",
      "  Q -> 'what is' [1] \n",
      "  Det -> 'the' [1.0]\n",
      "  Conj -> 'and' [1.0] \n",
      "  Comm -> ',' [1.0]\n",
      "  O -> 'name' [0.166666666] | 'date of birth' [0.166666666] | 'first name' [0.166666666] | 'last name' [0.166666666] | 'amount owed' [0.166666666] | 'address' [0.166666666]\n",
      "  Pos -> 'of' [0.9] | 'to' [0.1]\n",
      "  Ap -> 's' [1.0]\n",
      "  O2 -> [0.166666666] 'employee' | [0.166666666] 'customer' | [0.166666666] 'client' | [0.166666666] 'company' | [0.166666666] 'payee' | [0.166666666] 'recipient'\n",
      "  T -> '?' [1.0]\n",
      "\n"
     ]
    }
   ],
   "source": [
    "from nltk.grammar import CFG, PCFG\n",
    "N = 10000\n",
    "print('Generating the first %d sentences for demo grammar:' % (N,))\n",
    "print(demo_grammar)\n",
    "grammar = PCFG.fromstring(demo_grammar)\n",
    "with open('./generated.out', 'w') as outfile:\n",
    "    for n, sent in enumerate(generate(grammar, n=N), 1):\n",
    "    #print('%3d. %s' % (n, ' '.join(sent)))\n",
    "        outfile.write(' '.join(sent) + '\\n')"
   ]
  },
  {
   "cell_type": "code",
   "execution_count": null,
   "metadata": {
    "collapsed": true
   },
   "outputs": [],
   "source": [
    "def name_generator():\n",
    "    "
   ]
  },
  {
   "cell_type": "code",
   "execution_count": null,
   "metadata": {
    "collapsed": true
   },
   "outputs": [],
   "source": [
    "  Q -> 'what' [0.1428] | 'who' [0.1428] | 'where' [0.1428] | 'when' [0.1428] | 'how much' [0.1428] | 'will' [0.1428] | 'which' [0.1428]\n"
   ]
  }
 ],
 "metadata": {
  "kernelspec": {
   "display_name": "Python 3",
   "language": "python",
   "name": "python3"
  },
  "language_info": {
   "codemirror_mode": {
    "name": "ipython",
    "version": 3
   },
   "file_extension": ".py",
   "mimetype": "text/x-python",
   "name": "python",
   "nbconvert_exporter": "python",
   "pygments_lexer": "ipython3",
   "version": "3.6.5"
  }
 },
 "nbformat": 4,
 "nbformat_minor": 2
}
